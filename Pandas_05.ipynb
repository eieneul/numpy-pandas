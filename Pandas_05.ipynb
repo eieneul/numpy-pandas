{
 "cells": [
  {
   "cell_type": "markdown",
   "metadata": {},
   "source": [
    "# 数据格式与缺失值（Data types & Missing values）\n",
    "这一节中你会学习如何调查 Dataframe 或者 Series 内的数据类型，以及如何寻找和替换数据条目（entries）。"
   ]
  },
  {
   "cell_type": "code",
   "execution_count": 1,
   "metadata": {},
   "outputs": [
    {
     "data": {
      "text/html": [
       "<div>\n",
       "<style scoped>\n",
       "    .dataframe tbody tr th:only-of-type {\n",
       "        vertical-align: middle;\n",
       "    }\n",
       "\n",
       "    .dataframe tbody tr th {\n",
       "        vertical-align: top;\n",
       "    }\n",
       "\n",
       "    .dataframe thead th {\n",
       "        text-align: right;\n",
       "    }\n",
       "</style>\n",
       "<table border=\"1\" class=\"dataframe\">\n",
       "  <thead>\n",
       "    <tr style=\"text-align: right;\">\n",
       "      <th></th>\n",
       "      <th>country</th>\n",
       "      <th>description</th>\n",
       "      <th>designation</th>\n",
       "      <th>points</th>\n",
       "      <th>price</th>\n",
       "      <th>province</th>\n",
       "      <th>region_1</th>\n",
       "      <th>region_2</th>\n",
       "      <th>taster_name</th>\n",
       "      <th>taster_twitter_handle</th>\n",
       "      <th>title</th>\n",
       "      <th>variety</th>\n",
       "      <th>winery</th>\n",
       "    </tr>\n",
       "  </thead>\n",
       "  <tbody>\n",
       "    <tr>\n",
       "      <th>0</th>\n",
       "      <td>Italy</td>\n",
       "      <td>Aromas include tropical fruit, broom, brimston...</td>\n",
       "      <td>Vulkà Bianco</td>\n",
       "      <td>87</td>\n",
       "      <td>NaN</td>\n",
       "      <td>Sicily &amp; Sardinia</td>\n",
       "      <td>Etna</td>\n",
       "      <td>NaN</td>\n",
       "      <td>Kerin O’Keefe</td>\n",
       "      <td>@kerinokeefe</td>\n",
       "      <td>Nicosia 2013 Vulkà Bianco  (Etna)</td>\n",
       "      <td>White Blend</td>\n",
       "      <td>Nicosia</td>\n",
       "    </tr>\n",
       "    <tr>\n",
       "      <th>1</th>\n",
       "      <td>Portugal</td>\n",
       "      <td>This is ripe and fruity, a wine that is smooth...</td>\n",
       "      <td>Avidagos</td>\n",
       "      <td>87</td>\n",
       "      <td>15.0</td>\n",
       "      <td>Douro</td>\n",
       "      <td>NaN</td>\n",
       "      <td>NaN</td>\n",
       "      <td>Roger Voss</td>\n",
       "      <td>@vossroger</td>\n",
       "      <td>Quinta dos Avidagos 2011 Avidagos Red (Douro)</td>\n",
       "      <td>Portuguese Red</td>\n",
       "      <td>Quinta dos Avidagos</td>\n",
       "    </tr>\n",
       "    <tr>\n",
       "      <th>2</th>\n",
       "      <td>US</td>\n",
       "      <td>Tart and snappy, the flavors of lime flesh and...</td>\n",
       "      <td>NaN</td>\n",
       "      <td>87</td>\n",
       "      <td>14.0</td>\n",
       "      <td>Oregon</td>\n",
       "      <td>Willamette Valley</td>\n",
       "      <td>Willamette Valley</td>\n",
       "      <td>Paul Gregutt</td>\n",
       "      <td>@paulgwine</td>\n",
       "      <td>Rainstorm 2013 Pinot Gris (Willamette Valley)</td>\n",
       "      <td>Pinot Gris</td>\n",
       "      <td>Rainstorm</td>\n",
       "    </tr>\n",
       "    <tr>\n",
       "      <th>3</th>\n",
       "      <td>US</td>\n",
       "      <td>Pineapple rind, lemon pith and orange blossom ...</td>\n",
       "      <td>Reserve Late Harvest</td>\n",
       "      <td>87</td>\n",
       "      <td>13.0</td>\n",
       "      <td>Michigan</td>\n",
       "      <td>Lake Michigan Shore</td>\n",
       "      <td>NaN</td>\n",
       "      <td>Alexander Peartree</td>\n",
       "      <td>NaN</td>\n",
       "      <td>St. Julian 2013 Reserve Late Harvest Riesling ...</td>\n",
       "      <td>Riesling</td>\n",
       "      <td>St. Julian</td>\n",
       "    </tr>\n",
       "    <tr>\n",
       "      <th>4</th>\n",
       "      <td>US</td>\n",
       "      <td>Much like the regular bottling from 2012, this...</td>\n",
       "      <td>Vintner's Reserve Wild Child Block</td>\n",
       "      <td>87</td>\n",
       "      <td>65.0</td>\n",
       "      <td>Oregon</td>\n",
       "      <td>Willamette Valley</td>\n",
       "      <td>Willamette Valley</td>\n",
       "      <td>Paul Gregutt</td>\n",
       "      <td>@paulgwine</td>\n",
       "      <td>Sweet Cheeks 2012 Vintner's Reserve Wild Child...</td>\n",
       "      <td>Pinot Noir</td>\n",
       "      <td>Sweet Cheeks</td>\n",
       "    </tr>\n",
       "  </tbody>\n",
       "</table>\n",
       "</div>"
      ],
      "text/plain": [
       "    country                                        description  \\\n",
       "0     Italy  Aromas include tropical fruit, broom, brimston...   \n",
       "1  Portugal  This is ripe and fruity, a wine that is smooth...   \n",
       "2        US  Tart and snappy, the flavors of lime flesh and...   \n",
       "3        US  Pineapple rind, lemon pith and orange blossom ...   \n",
       "4        US  Much like the regular bottling from 2012, this...   \n",
       "\n",
       "                          designation  points  price           province  \\\n",
       "0                        Vulkà Bianco      87    NaN  Sicily & Sardinia   \n",
       "1                            Avidagos      87   15.0              Douro   \n",
       "2                                 NaN      87   14.0             Oregon   \n",
       "3                Reserve Late Harvest      87   13.0           Michigan   \n",
       "4  Vintner's Reserve Wild Child Block      87   65.0             Oregon   \n",
       "\n",
       "              region_1           region_2         taster_name  \\\n",
       "0                 Etna                NaN       Kerin O’Keefe   \n",
       "1                  NaN                NaN          Roger Voss   \n",
       "2    Willamette Valley  Willamette Valley        Paul Gregutt   \n",
       "3  Lake Michigan Shore                NaN  Alexander Peartree   \n",
       "4    Willamette Valley  Willamette Valley        Paul Gregutt   \n",
       "\n",
       "  taster_twitter_handle                                              title  \\\n",
       "0          @kerinokeefe                  Nicosia 2013 Vulkà Bianco  (Etna)   \n",
       "1            @vossroger      Quinta dos Avidagos 2011 Avidagos Red (Douro)   \n",
       "2           @paulgwine       Rainstorm 2013 Pinot Gris (Willamette Valley)   \n",
       "3                   NaN  St. Julian 2013 Reserve Late Harvest Riesling ...   \n",
       "4           @paulgwine   Sweet Cheeks 2012 Vintner's Reserve Wild Child...   \n",
       "\n",
       "          variety               winery  \n",
       "0     White Blend              Nicosia  \n",
       "1  Portuguese Red  Quinta dos Avidagos  \n",
       "2      Pinot Gris            Rainstorm  \n",
       "3        Riesling           St. Julian  \n",
       "4      Pinot Noir         Sweet Cheeks  "
      ]
     },
     "execution_count": 1,
     "metadata": {},
     "output_type": "execute_result"
    }
   ],
   "source": [
    "import pandas as pd\n",
    "pd.set_option(\"display.max_rows\", 5)\n",
    "# 读取红酒评价数据集\n",
    "wine_reviews = pd.read_csv(\"winemag-data-50k-v2.csv\", index_col=0)\n",
    "wine_reviews.head()"
   ]
  },
  {
   "cell_type": "markdown",
   "metadata": {},
   "source": [
    "## Dtypes\n",
    "Dataframe 或者 Series 中每一列（column）的数据类型就是所谓的 **dtype**<p>\n",
    "我们不妨随便抓一列数据看看它的属性是啥："
   ]
  },
  {
   "cell_type": "code",
   "execution_count": 2,
   "metadata": {},
   "outputs": [
    {
     "data": {
      "text/plain": [
       "dtype('float64')"
      ]
     },
     "execution_count": 2,
     "metadata": {},
     "output_type": "execute_result"
    }
   ],
   "source": [
    "wine_reviews.price.dtype"
   ]
  },
  {
   "cell_type": "markdown",
   "metadata": {},
   "source": [
    "Dataframe每一列都可以调用 **dtype** 属性（property），或者我们可以用 **dtypes** 属性来看数据集的全部columns："
   ]
  },
  {
   "cell_type": "code",
   "execution_count": 3,
   "metadata": {},
   "outputs": [
    {
     "data": {
      "text/plain": [
       "country        object\n",
       "description    object\n",
       "                ...  \n",
       "variety        object\n",
       "winery         object\n",
       "Length: 13, dtype: object"
      ]
     },
     "execution_count": 3,
     "metadata": {},
     "output_type": "execute_result"
    }
   ],
   "source": [
    "wine_reviews.dtypes"
   ]
  },
  {
   "cell_type": "markdown",
   "metadata": {},
   "source": [
    "通过数据类型我们可以知道pandas是如何在内部存储数据的。float64意味着采用64-bit浮点数；int64就是同样大小的整数，等等..<p>\n",
    "有个奇特的点需要注意，就是所有string类型的数据对应的dtype都是 **object** 类型。<p>\n",
    "我们可以通过 **astype()** 操作来转换某一列的数据类型，比如把points字段的数据从int64整数换成float64浮点数："
   ]
  },
  {
   "cell_type": "code",
   "execution_count": 4,
   "metadata": {},
   "outputs": [
    {
     "data": {
      "text/plain": [
       "0        87.0\n",
       "1        87.0\n",
       "         ... \n",
       "49998    90.0\n",
       "49999    90.0\n",
       "Name: points, Length: 50000, dtype: float64"
      ]
     },
     "execution_count": 4,
     "metadata": {},
     "output_type": "execute_result"
    }
   ],
   "source": [
    "wine_reviews.points.astype('float64')"
   ]
  },
  {
   "cell_type": "markdown",
   "metadata": {},
   "source": [
    "索引也是有数据类型的喔！"
   ]
  },
  {
   "cell_type": "code",
   "execution_count": 5,
   "metadata": {},
   "outputs": [
    {
     "data": {
      "text/plain": [
       "dtype('int64')"
      ]
     },
     "execution_count": 5,
     "metadata": {},
     "output_type": "execute_result"
    }
   ],
   "source": [
    "wine_reviews.index.dtype"
   ]
  },
  {
   "cell_type": "markdown",
   "metadata": {},
   "source": [
    "Pandas还支持很多其他数据类型，例如类别数据（categorical data）和时间序列数据（timeseries data）等，由于不太常用这里就不过多赘述了。"
   ]
  },
  {
   "cell_type": "markdown",
   "metadata": {},
   "source": [
    "## 缺失值（Missing values）\n",
    "日常所见的数据集中，通常缺失的数据会被赋予 **NaN** 的值，意思是 Not a Number。<p>\n",
    "在第二节中（我猜你已经忘了）我们提到过缺失值的选择器 **pd.isnull()** 和 **pd.notnull()** ，他们是选择 **NaN** 的好帮手："
   ]
  },
  {
   "cell_type": "code",
   "execution_count": 6,
   "metadata": {},
   "outputs": [
    {
     "data": {
      "text/html": [
       "<div>\n",
       "<style scoped>\n",
       "    .dataframe tbody tr th:only-of-type {\n",
       "        vertical-align: middle;\n",
       "    }\n",
       "\n",
       "    .dataframe tbody tr th {\n",
       "        vertical-align: top;\n",
       "    }\n",
       "\n",
       "    .dataframe thead th {\n",
       "        text-align: right;\n",
       "    }\n",
       "</style>\n",
       "<table border=\"1\" class=\"dataframe\">\n",
       "  <thead>\n",
       "    <tr style=\"text-align: right;\">\n",
       "      <th></th>\n",
       "      <th>country</th>\n",
       "      <th>description</th>\n",
       "      <th>designation</th>\n",
       "      <th>points</th>\n",
       "      <th>price</th>\n",
       "      <th>province</th>\n",
       "      <th>region_1</th>\n",
       "      <th>region_2</th>\n",
       "      <th>taster_name</th>\n",
       "      <th>taster_twitter_handle</th>\n",
       "      <th>title</th>\n",
       "      <th>variety</th>\n",
       "      <th>winery</th>\n",
       "    </tr>\n",
       "  </thead>\n",
       "  <tbody>\n",
       "    <tr>\n",
       "      <th>913</th>\n",
       "      <td>NaN</td>\n",
       "      <td>Amber in color, this wine has aromas of peach ...</td>\n",
       "      <td>Asureti Valley</td>\n",
       "      <td>87</td>\n",
       "      <td>30.0</td>\n",
       "      <td>NaN</td>\n",
       "      <td>NaN</td>\n",
       "      <td>NaN</td>\n",
       "      <td>Mike DeSimone</td>\n",
       "      <td>@worldwineguys</td>\n",
       "      <td>Gotsa Family Wines 2014 Asureti Valley Chinuri</td>\n",
       "      <td>Chinuri</td>\n",
       "      <td>Gotsa Family Wines</td>\n",
       "    </tr>\n",
       "    <tr>\n",
       "      <th>3131</th>\n",
       "      <td>NaN</td>\n",
       "      <td>Soft, fruity and juicy, this is a pleasant, si...</td>\n",
       "      <td>Partager</td>\n",
       "      <td>83</td>\n",
       "      <td>NaN</td>\n",
       "      <td>NaN</td>\n",
       "      <td>NaN</td>\n",
       "      <td>NaN</td>\n",
       "      <td>Roger Voss</td>\n",
       "      <td>@vossroger</td>\n",
       "      <td>Barton &amp; Guestier NV Partager Red</td>\n",
       "      <td>Red Blend</td>\n",
       "      <td>Barton &amp; Guestier</td>\n",
       "    </tr>\n",
       "    <tr>\n",
       "      <th>...</th>\n",
       "      <td>...</td>\n",
       "      <td>...</td>\n",
       "      <td>...</td>\n",
       "      <td>...</td>\n",
       "      <td>...</td>\n",
       "      <td>...</td>\n",
       "      <td>...</td>\n",
       "      <td>...</td>\n",
       "      <td>...</td>\n",
       "      <td>...</td>\n",
       "      <td>...</td>\n",
       "      <td>...</td>\n",
       "      <td>...</td>\n",
       "    </tr>\n",
       "    <tr>\n",
       "      <th>49427</th>\n",
       "      <td>NaN</td>\n",
       "      <td>This dark-garnet wine has aromas of eucalyptus...</td>\n",
       "      <td>Hrumki Syrah Melnik 55 Mourvèdre Marselan</td>\n",
       "      <td>88</td>\n",
       "      <td>19.0</td>\n",
       "      <td>NaN</td>\n",
       "      <td>NaN</td>\n",
       "      <td>NaN</td>\n",
       "      <td>Jeff Jenssen</td>\n",
       "      <td>@worldwineguys</td>\n",
       "      <td>Orbelus 2013 Hrumki Syrah Melnik 55 Mourvèdre ...</td>\n",
       "      <td>Red Blend</td>\n",
       "      <td>Orbelus</td>\n",
       "    </tr>\n",
       "    <tr>\n",
       "      <th>49510</th>\n",
       "      <td>NaN</td>\n",
       "      <td>Aromas of cherry, blueberry and rose petal pre...</td>\n",
       "      <td>NaN</td>\n",
       "      <td>91</td>\n",
       "      <td>34.0</td>\n",
       "      <td>NaN</td>\n",
       "      <td>NaN</td>\n",
       "      <td>NaN</td>\n",
       "      <td>Mike DeSimone</td>\n",
       "      <td>@worldwineguys</td>\n",
       "      <td>Psagot 2013 Cabernet Sauvignon</td>\n",
       "      <td>Cabernet Sauvignon</td>\n",
       "      <td>Psagot</td>\n",
       "    </tr>\n",
       "  </tbody>\n",
       "</table>\n",
       "<p>28 rows × 13 columns</p>\n",
       "</div>"
      ],
      "text/plain": [
       "      country                                        description  \\\n",
       "913       NaN  Amber in color, this wine has aromas of peach ...   \n",
       "3131      NaN  Soft, fruity and juicy, this is a pleasant, si...   \n",
       "...       ...                                                ...   \n",
       "49427     NaN  This dark-garnet wine has aromas of eucalyptus...   \n",
       "49510     NaN  Aromas of cherry, blueberry and rose petal pre...   \n",
       "\n",
       "                                     designation  points  price province  \\\n",
       "913                               Asureti Valley      87   30.0      NaN   \n",
       "3131                                    Partager      83    NaN      NaN   \n",
       "...                                          ...     ...    ...      ...   \n",
       "49427  Hrumki Syrah Melnik 55 Mourvèdre Marselan      88   19.0      NaN   \n",
       "49510                                        NaN      91   34.0      NaN   \n",
       "\n",
       "      region_1 region_2    taster_name taster_twitter_handle  \\\n",
       "913        NaN      NaN  Mike DeSimone        @worldwineguys   \n",
       "3131       NaN      NaN     Roger Voss            @vossroger   \n",
       "...        ...      ...            ...                   ...   \n",
       "49427      NaN      NaN   Jeff Jenssen        @worldwineguys   \n",
       "49510      NaN      NaN  Mike DeSimone        @worldwineguys   \n",
       "\n",
       "                                                   title             variety  \\\n",
       "913       Gotsa Family Wines 2014 Asureti Valley Chinuri             Chinuri   \n",
       "3131                   Barton & Guestier NV Partager Red           Red Blend   \n",
       "...                                                  ...                 ...   \n",
       "49427  Orbelus 2013 Hrumki Syrah Melnik 55 Mourvèdre ...           Red Blend   \n",
       "49510                     Psagot 2013 Cabernet Sauvignon  Cabernet Sauvignon   \n",
       "\n",
       "                   winery  \n",
       "913    Gotsa Family Wines  \n",
       "3131    Barton & Guestier  \n",
       "...                   ...  \n",
       "49427             Orbelus  \n",
       "49510              Psagot  \n",
       "\n",
       "[28 rows x 13 columns]"
      ]
     },
     "execution_count": 6,
     "metadata": {},
     "output_type": "execute_result"
    }
   ],
   "source": [
    "wine_reviews[pd.isnull(wine_reviews.country)]"
   ]
  },
  {
   "cell_type": "markdown",
   "metadata": {},
   "source": [
    "### fillna()\n",
    "找到缺失值，接下来最常见的操作就是替换掉它，Pandas提供了一个非常好使的功能 **fillna()**<p>\n",
    "比如我们可以把所有的缺失值都替换成字符串 \"UnKnown\""
   ]
  },
  {
   "cell_type": "code",
   "execution_count": 7,
   "metadata": {},
   "outputs": [
    {
     "data": {
      "text/plain": [
       "0                 Unknown\n",
       "1                 Unknown\n",
       "               ...       \n",
       "49998             Unknown\n",
       "49999    Washington Other\n",
       "Name: region_2, Length: 50000, dtype: object"
      ]
     },
     "execution_count": 7,
     "metadata": {},
     "output_type": "execute_result"
    }
   ],
   "source": [
    "wine_reviews.region_2.fillna(\"Unknown\") # 这个操作只会把 NaN 的数据改成 UnKnown，有值的数据不会变。"
   ]
  },
  {
   "cell_type": "markdown",
   "metadata": {},
   "source": [
    "### dropna()\n",
    "既然可以填充，那必然也可以丢弃缺失值，pandas也提供了相对应的功能 **dropna()**<p>\n",
    "DataFrame.dropna()                     去掉有缺失项的行<p>\n",
    "DataFrame.dropna(axis='columns')            去掉有缺失项的列<p>\n",
    "DataFrame.dropna(how='all')               去掉所有项均缺失的行<p>\n",
    "DataFrame.dropna(thresh=2)                保留至少有两个非空项的行"
   ]
  },
  {
   "cell_type": "code",
   "execution_count": 8,
   "metadata": {},
   "outputs": [
    {
     "data": {
      "text/plain": [
       "2        Willamette Valley\n",
       "4        Willamette Valley\n",
       "               ...        \n",
       "49997      Columbia Valley\n",
       "49999     Washington Other\n",
       "Name: region_2, Length: 19215, dtype: object"
      ]
     },
     "execution_count": 8,
     "metadata": {},
     "output_type": "execute_result"
    }
   ],
   "source": [
    "wine_reviews.region_2.dropna()"
   ]
  },
  {
   "cell_type": "markdown",
   "metadata": {},
   "source": [
    "可以看到上面操作 fillna 的时候数据量（length）是50000条，现在丢弃了缺失值之后只剩下了19215条数据。"
   ]
  },
  {
   "cell_type": "markdown",
   "metadata": {},
   "source": [
    "### replace()\n",
    "我们有时候也会需要替换一些非空值（not-null value）。比如红酒评价的数据集发布之后，评论员 Kerin O'Keefe 将他的推特id从原先的 @kerinokeefe 改为了 @kerino ，这个时候我们就需要用到 **replace** 功能了。"
   ]
  },
  {
   "cell_type": "code",
   "execution_count": 9,
   "metadata": {},
   "outputs": [
    {
     "data": {
      "text/plain": [
       "0            @kerino\n",
       "1         @vossroger\n",
       "            ...     \n",
       "49998            NaN\n",
       "49999    @paulgwine \n",
       "Name: taster_twitter_handle, Length: 50000, dtype: object"
      ]
     },
     "execution_count": 9,
     "metadata": {},
     "output_type": "execute_result"
    }
   ],
   "source": [
    "wine_reviews.taster_twitter_handle.replace(\"@kerinokeefe\", \"@kerino\")"
   ]
  },
  {
   "cell_type": "markdown",
   "metadata": {},
   "source": [
    "**replace** 功能之所以要在这里提到，另一个原因是，有时候我们拿到的数据集中没用的数据不一定都是 **NaN** ，它也可能被赋予了一些特殊的值，比如：\"Unknown\", \"Undisclosed\", \"Invalid\" 等。这时候我们就可以用 **replace** 功能来替换掉它们。<p>\n",
    "关于 **replace** 功能的深入使用方法可以查询官方文档：[pandas.DataFrame.replace](https://pandas.pydata.org/pandas-docs/stable/reference/api/pandas.DataFrame.replace.html#pandas.DataFrame.replace)"
   ]
  }
 ],
 "metadata": {
  "kernelspec": {
   "display_name": "Python 3",
   "language": "python",
   "name": "python3"
  },
  "language_info": {
   "codemirror_mode": {
    "name": "ipython",
    "version": 3
   },
   "file_extension": ".py",
   "mimetype": "text/x-python",
   "name": "python",
   "nbconvert_exporter": "python",
   "pygments_lexer": "ipython3",
   "version": "3.6.5"
  }
 },
 "nbformat": 4,
 "nbformat_minor": 2
}
