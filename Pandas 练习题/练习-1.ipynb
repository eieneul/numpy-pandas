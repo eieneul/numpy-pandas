{
 "cells": [
  {
   "cell_type": "markdown",
   "metadata": {},
   "source": [
    "# 练习-1：丢弃掉不需要的列（Dropping Unwanted Columns）\n",
    "通常情况下，一个指定的任务只需要数据集中的某几列数据，而多余的那些列数据则可以丢掉以节省内存。在这个练习中，你需要按要求丢掉不需要的数据。<p>\n",
    "请使用 **Books.csv** 数据，并丢弃下列字段（columns）："
   ]
  },
  {
   "cell_type": "markdown",
   "metadata": {},
   "source": [
    "'Edition Statement',<p>\n",
    "'Corporate Author',<p>\n",
    "'Corporate Contributors',<p>\n",
    "'Former owner',<p>\n",
    "'Engraver',<p>\n",
    "'Contributors',<p>\n",
    "'Issuance type',<p>\n",
    "'Shelfmarks'"
   ]
  },
  {
   "cell_type": "markdown",
   "metadata": {},
   "source": [
    "## 操作步骤:\n",
    "1. 通过 Pandas 读取数据集（Dataframe）\n",
    "2. 打印数据集（Dataframe）中的所有列，通过打印数据集来熟悉数据内容和结构\n",
    "3. [计算并打印每列中的 NaN（not a number）值](https://stackoverflow.com/questions/26266362/how-to-count-the-nan-values-in-a-column-in-pandas-dataframe)\n",
    "4. [按照上述黑名单丢弃数据集（Dataframe）中不需要的列（column）](https://pandas.pydata.org/pandas-docs/stable/reference/api/pandas.DataFrame.drop.html)\n",
    "5. 再次打印数据集（Dataframe），确保只剩下你需要的列"
   ]
  },
  {
   "cell_type": "markdown",
   "metadata": {},
   "source": [
    "*是不是很简单！参考答案在另一个文件夹中，是包装的很好的 python 文件，不妨 run 一下看看跟自己得到的结果相不相同*"
   ]
  }
 ],
 "metadata": {
  "kernelspec": {
   "display_name": "Python 3",
   "language": "python",
   "name": "python3"
  },
  "language_info": {
   "codemirror_mode": {
    "name": "ipython",
    "version": 3
   },
   "file_extension": ".py",
   "mimetype": "text/x-python",
   "name": "python",
   "nbconvert_exporter": "python",
   "pygments_lexer": "ipython3",
   "version": "3.6.5"
  }
 },
 "nbformat": 4,
 "nbformat_minor": 2
}
