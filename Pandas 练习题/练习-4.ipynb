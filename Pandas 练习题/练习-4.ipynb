{
 "cells": [
  {
   "cell_type": "markdown",
   "metadata": {},
   "source": [
    "# 练习-4：合并两个数据表（Merging Two Dataframes）\n",
    "数据处理中总有一些时候你会需要去融合合并（merge/join）多个不同的数据集（datasets）从而获得你想要的信息。<p>\n",
    "在这个练习中，我们会用到一个新的迷你数据集 **City.csv**，你会在里面找到书籍数据集（**Books.csv**）中每个城市出版的书籍数量统计信息。由于给出的数据集中并没有提供书籍出版的国家（the country of publication），我们会用 **City.csv** 中的城市数据来匹配国家（map cities to countries）。"
   ]
  },
  {
   "cell_type": "markdown",
   "metadata": {},
   "source": [
    "## 操作步骤:\n",
    "1. 通过 Pandas 读取 **Books** 数据集（Dataframe）\n",
    "2. 用练习-2中学到的方法把数据集再清洗一遍\n",
    "3. 把所有字段名（column name）中的空格都替换（replace）成下划线 \"_\"\n",
    "4. 通过 Pandas 读取 **City** 数据集（Dataframe）\n",
    "5. [基于城市名称合并两个数据集（Merge two datasets based on the name of city）](https://stackoverflow.com/questions/25888207/pandas-join-dataframes-on-field-with-different-names/25888471#25888471)\n",
    "6. [对合并后的新数据集，按照国家字段（country column）进行聚合（group by）](https://pandas.pydata.org/pandas-docs/stable/reference/api/pandas.DataFrame.groupby.html)，在聚合的过程中，[请保持国家名称(the name of countries) as_index=False](https://stackoverflow.com/questions/41236370/what-is-as-index-in-groupby-in-pandas)，使用[ **count()** ](https://pandas.pydata.org/pandas-docs/stable/reference/api/pandas.core.groupby.GroupBy.count.html)操作来统计每个国家的书籍出版数量\n",
    "7. 打印数据集（Dataframe），确认你的结果"
   ]
  },
  {
   "cell_type": "markdown",
   "metadata": {},
   "source": [
    "*写完这题咱们的入门教学就算圆满完成了！感谢一下自己的付出吧！别忘了这才只是入门，后面还有很长的路要走，记得脚踏实地 ~ 也祝你未来一切顺利 ~*"
   ]
  }
 ],
 "metadata": {
  "kernelspec": {
   "display_name": "Python 3",
   "language": "python",
   "name": "python3"
  },
  "language_info": {
   "codemirror_mode": {
    "name": "ipython",
    "version": 3
   },
   "file_extension": ".py",
   "mimetype": "text/x-python",
   "name": "python",
   "nbconvert_exporter": "python",
   "pygments_lexer": "ipython3",
   "version": "3.7.5"
  }
 },
 "nbformat": 4,
 "nbformat_minor": 4
}
