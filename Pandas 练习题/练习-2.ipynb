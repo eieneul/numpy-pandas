{
 "cells": [
  {
   "cell_type": "markdown",
   "metadata": {},
   "source": [
    "# 练习-2：清洗字段（Cleaning Columns）\n",
    "通过查看练习-1的数据你会发现，有些字段（column）的数据格式并不规范，比如\"Place of Publication\"字段就包含这些内容：( \"London\", \"London]\" , \"London; Virtue & Yorston\")，而这些表达其实都是指的同一个地方。<p>\n",
    "在这次练习中，你需要清洗（clear）并规范（uniform）这两列数据：\"Place of Publication\" 和 \"Date of Publication\"<p>\n",
    "请同样使用 **Books.csv** 数据"
   ]
  },
  {
   "cell_type": "markdown",
   "metadata": {},
   "source": [
    "## 操作步骤:\n",
    "1. 通过 Pandas 读取数据集（Dataframe）\n",
    "2. [把 \"Place of Publication\" 字段（column）下所有包含 \"London\" 的值都替换（replace）成 \"London\"，并把所有 \"-\" 字符都替换（replace）成空格](https://pandas.pydata.org/pandas-docs/stable/reference/api/pandas.DataFrame.apply.html)\n",
    "3. [保留 \"Date of Publication\" 字段（column）中每个值的前4位数字（the first 4 digit number）](https://pandas.pydata.org/pandas-docs/stable/reference/api/pandas.Series.str.extract.html)\n",
    "4. [将 \"Date of Publication\" 字段（column）的数据类型都转换成数字（number）类型](https://pandas.pydata.org/pandas-docs/version/0.23/generated/pandas.to_numeric.html)\n",
    "5. [将 \"Date of Publication\" 字段（column）中所有的 NaN 值都替换（replace）成 0](https://pandas.pydata.org/pandas-docs/stable/reference/api/pandas.DataFrame.fillna.html)\n",
    "6. 再次打印数据集（Dataframe），看看结果是不是如你所愿"
   ]
  },
  {
   "cell_type": "markdown",
   "metadata": {},
   "source": [
    "*这次可能会涉及到一些 python 中处理字符串的方法，比如正则表达式，不过内容相对浅显，相信聪明的你不会被难倒！<p>\n",
    "    正则表达式（Regular Expression，简称 regex）是对字符串和特殊字符操作的一种逻辑公式，不论是 python 还是 sql 处理数据中都会经常用到。*"
   ]
  }
 ],
 "metadata": {
  "kernelspec": {
   "display_name": "Python 3",
   "language": "python",
   "name": "python3"
  },
  "language_info": {
   "codemirror_mode": {
    "name": "ipython",
    "version": 3
   },
   "file_extension": ".py",
   "mimetype": "text/x-python",
   "name": "python",
   "nbconvert_exporter": "python",
   "pygments_lexer": "ipython3",
   "version": "3.6.5"
  }
 },
 "nbformat": 4,
 "nbformat_minor": 2
}
