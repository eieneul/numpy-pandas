{
 "cells": [
  {
   "cell_type": "markdown",
   "metadata": {},
   "source": [
    "# 练习-3：过滤行数据（Filtering Rows）\n",
    "在数据处理中，我们同样也会有需求去过滤每一行的数据。本次练习着重于查询数据表（query the Dataframe）并按要求过滤数据（filter rows）。<p>\n",
    "    依旧使用 **Books.csv** 数据"
   ]
  },
  {
   "cell_type": "markdown",
   "metadata": {},
   "source": [
    "## 操作步骤:\n",
    "1. 通过 Pandas 读取数据集（Dataframe）\n",
    "2. 用练习-2中学到的方法把数据集再清洗一遍\n",
    "3. [把所有字段名（column name）中的空格都替换（replace）成下划线 \"_\"](https://stackoverflow.com/questions/13757090/pandas-column-access-w-column-names-containing-spaces/30514678) 。因为Pandas的查询操作对于含有空格的字段名称并不友好\n",
    "4. [过滤每一条数据，只保留那些1866年以后在伦敦出版的书（books which are published in \"London\" after 1866.）](https://pandas.pydata.org/pandas-docs/version/0.22/generated/pandas.DataFrame.query.html)\n",
    "5. 打印数据集（Dataframe），确认你的结果"
   ]
  },
  {
   "cell_type": "markdown",
   "metadata": {},
   "source": [
    "*这道题中涉及到的 query 操作与 sql 中的查询语句十分相似，强大又好用！*"
   ]
  }
 ],
 "metadata": {
  "kernelspec": {
   "display_name": "Python 3",
   "language": "python",
   "name": "python3"
  },
  "language_info": {
   "codemirror_mode": {
    "name": "ipython",
    "version": 3
   },
   "file_extension": ".py",
   "mimetype": "text/x-python",
   "name": "python",
   "nbconvert_exporter": "python",
   "pygments_lexer": "ipython3",
   "version": "3.6.5"
  }
 },
 "nbformat": 4,
 "nbformat_minor": 2
}
